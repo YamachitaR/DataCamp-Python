{
 "cells": [
  {
   "cell_type": "markdown",
   "metadata": {
    "dc": {
     "key": "4"
    },
    "deletable": false,
    "editable": false,
    "run_control": {
     "frozen": true
    },
    "tags": [
     "context"
    ]
   },
   "source": [
    "## 1. Welcome!\n",
    "<p><img src=\"https://assets.datacamp.com/production/project_1170/img/office_cast.jpeg\" alt=\"Markdown\">.</p>\n",
    "<p><strong>The Office!</strong> What started as a British mockumentary series about office culture in 2001 has since spawned ten other variants across the world, including an Israeli version (2010-13), a Hindi version (2019-), and even a French Canadian variant (2006-2007). Of all these iterations (including the original), the American series has been the longest-running, spanning 201 episodes over nine seasons.</p>\n",
    "<p>In this notebook, we will take a look at a dataset of The Office episodes, and try to understand how the popularity and quality of the series varied over time. To do so, we will use the following dataset: <code>datasets/office_episodes.csv</code>, which was downloaded from Kaggle <a href=\"https://www.kaggle.com/nehaprabhavalkar/the-office-dataset\">here</a>.</p>\n",
    "<p>This dataset contains information on a variety of characteristics of each episode. In detail, these are:\n",
    "<br></p>\n",
    "<div style=\"background-color: #efebe4; color: #05192d; text-align:left; vertical-align: middle; padding: 15px 25px 15px 25px; line-height: 1.6;\">\n",
    "    <div style=\"font-size:20px\"><b>datasets/office_episodes.csv</b></div>\n",
    "<ul>\n",
    "    <li><b>episode_number:</b> Canonical episode number.</li>\n",
    "    <li><b>season:</b> Season in which the episode appeared.</li>\n",
    "    <li><b>episode_title:</b> Title of the episode.</li>\n",
    "    <li><b>description:</b> Description of the episode.</li>\n",
    "    <li><b>ratings:</b> Average IMDB rating.</li>\n",
    "    <li><b>votes:</b> Number of votes.</li>\n",
    "    <li><b>viewership_mil:</b> Number of US viewers in millions.</li>\n",
    "    <li><b>duration:</b> Duration in number of minutes.</li>\n",
    "    <li><b>release_date:</b> Airdate.</li>\n",
    "    <li><b>guest_stars:</b> Guest stars in the episode (if any).</li>\n",
    "    <li><b>director:</b> Director of the episode.</li>\n",
    "    <li><b>writers:</b> Writers of the episode.</li>\n",
    "    <li><b>has_guests:</b> True/False column for whether the episode contained guest stars.</li>\n",
    "    <li><b>scaled_ratings:</b> The ratings scaled from 0 (worst-reviewed) to 1 (best-reviewed).</li>\n",
    "</ul>\n",
    "    </div>"
   ]
  },
  {
   "cell_type": "markdown",
   "metadata": {
    "collapsed": true,
    "dc": {
     "key": "4"
    }
   },
   "source": [
    "#  O que esta perdindo \n",
    "\n",
    "Instructions\n",
    "\n",
    "Data visualization is often a great way to start exploring your data and uncovering insights. In this notebook, you will initiate this process by creating an informative plot of the episode data provided to you. In doing so, you're going to work on several different variables, including the episode number, the viewership, the fan rating, and guest appearances. Here are the requirements needed to pass this project:\n",
    "\n",
    "    Create a matplotlib scatter plot of the data that contains the following attributes:\n",
    "        Each episode's episode number plotted along the x-axis\n",
    "        Each episode's viewership (in millions) plotted along the y-axis\n",
    "        A color scheme reflecting the scaled ratings (not the regular ratings) of each episode, such that:\n",
    "            Ratings < 0.25 are colored \"red\"\n",
    "            Ratings >= 0.25 and < 0.50 are colored \"orange\"\n",
    "            Ratings >= 0.50 and < 0.75 are colored \"lightgreen\"\n",
    "            Ratings >= 0.75 are colored \"darkgreen\"\n",
    "        A sizing system, such that episodes with guest appearances have a marker size of 250 and episodes without are sized 25\n",
    "        A title, reading \"Popularity, Quality, and Guest Appearances on the Office\"\n",
    "        An x-axis label reading \"Episode Number\"\n",
    "        A y-axis label reading \"Viewership (Millions)\"\n",
    "\n",
    "    Provide the name of one of the guest stars (hint, there were multiple!) who was in the most watched Office episode. Save it as a string in the variable top_star (e.g. top_star = \"Will Ferrell\").\n",
    "\n",
    "Important!\n",
    "\n",
    "To test your matplotlib plot, you will need to initalize a matplotlib.pyplot fig object, which you can do using the code fig = plt.figure() (provided you have imported matplotlib.pyplot as plt). In addition, in order to test it correctly, please make sure to specify your plot (including the type, data, labels, etc) in the same cell as the one you initialize your figure (fig)! You are still free to use other cells to load data, experiment, and answer Question 2.\n",
    "\n",
    "In addition, if you want to be able to see a larger version of your plot, you can set the figure size parameters using this code (provided again you have imported matplotlib.pyplot as plt):\n",
    "\n",
    "plt.rcParams['figure.figsize'] = [11, 7]\n",
    "Bonus Step!\n",
    "\n",
    "Although it was not taught in Intermediate Python, a useful skill for visualizing different data points is to use a different marker. You can learn more about them via the Matplotlib documentation or via our course Introduction to Data Visualization with Matplotlib. Thus, as a bonus step, try to differentiate guest appearances not just with size, but also with a star!\n",
    "\n",
    "All other attributes still apply (data on the axes, color scheme, sizes for guest appearances, title, and axis labels).\n"
   ]
  },
  {
   "cell_type": "code",
   "execution_count": 1,
   "metadata": {
    "dc": {
     "key": "4"
    },
    "tags": [
     "sample_code"
    ]
   },
   "outputs": [],
   "source": [
    "# Importando a biblioteca\n",
    "import pandas as pd\n",
    "import matplotlib.pyplot as plt"
   ]
  },
  {
   "cell_type": "markdown",
   "metadata": {
    "dc": {
     "key": "4"
    }
   },
   "source": [
    "`rcParams` é um dicionário que armazena as configurações padrão dos parâmetros de plotagem no Matplotlib, uma biblioteca de visualização de dados em Python. \n",
    "\n",
    "O Matplotlib possui um conjunto de parâmetros de configuração que afetam a aparência de suas visualizações. Por exemplo, as configurações de tamanho da fonte, cor de fundo e tamanho da figura podem ser definidas com os parâmetros padrão. \n",
    "\n",
    "`rcParams` armazena esses parâmetros padrão em um dicionário que pode ser acessado e modificado pelo usuário para personalizar a aparência de seus gráficos. \n",
    "\n",
    "Por exemplo, para definir o tamanho padrão da fonte em 12 pontos e o tamanho padrão da figura em 8 x 6 polegadas, podemos usar:\n",
    "\n",
    "```python\n",
    "import matplotlib.pyplot as plt\n",
    "\n",
    "plt.rcParams['font.size'] = 12\n",
    "plt.rcParams['figure.figsize'] = [8.0, 6.0]\n",
    "```\n",
    "\n",
    "Dessa forma, todas as visualizações criadas após a execução dessas linhas de código usarão os valores definidos para `font.size` e `figure.figsize`. \n",
    "\n",
    "`rcParams` também pode ser usado para armazenar outras configurações de plotagem, como configurações de estilo de linha, tamanho de margem, resolução de imagem e muito mais."
   ]
  },
  {
   "cell_type": "code",
   "execution_count": 2,
   "metadata": {
    "dc": {
     "key": "4"
    }
   },
   "outputs": [],
   "source": [
    "plt.rcParams['figure.figsize'] = [11,7]"
   ]
  },
  {
   "cell_type": "code",
   "execution_count": 3,
   "metadata": {
    "dc": {
     "key": "4"
    }
   },
   "outputs": [
    {
     "name": "stdout",
     "output_type": "stream",
     "text": [
      "<class 'pandas.core.frame.DataFrame'>\n",
      "RangeIndex: 188 entries, 0 to 187\n",
      "Data columns (total 14 columns):\n",
      " #   Column          Non-Null Count  Dtype  \n",
      "---  ------          --------------  -----  \n",
      " 0   episode_number  188 non-null    int64  \n",
      " 1   season          188 non-null    int64  \n",
      " 2   episode_title   188 non-null    object \n",
      " 3   description     188 non-null    object \n",
      " 4   ratings         188 non-null    float64\n",
      " 5   votes           188 non-null    int64  \n",
      " 6   viewership_mil  188 non-null    float64\n",
      " 7   duration        188 non-null    int64  \n",
      " 8   release_date    188 non-null    object \n",
      " 9   guest_stars     29 non-null     object \n",
      " 10  director        188 non-null    object \n",
      " 11  writers         188 non-null    object \n",
      " 12  has_guests      188 non-null    bool   \n",
      " 13  scaled_ratings  188 non-null    float64\n",
      "dtypes: bool(1), float64(3), int64(4), object(6)\n",
      "memory usage: 19.4+ KB\n"
     ]
    }
   ],
   "source": [
    "# Carregando e monstando informações \n",
    "office_df = pd.read_csv('datasets/office_episodes.csv')\n",
    "office_df.info()"
   ]
  },
  {
   "cell_type": "code",
   "execution_count": 4,
   "metadata": {
    "dc": {
     "key": "4"
    }
   },
   "outputs": [],
   "source": [
    "# Criando uma coluna para nos imprimir com nosso criterio \n",
    "cols =  []\n",
    "\n",
    "for ind, row in office_df.iterrows():\n",
    "    if row['scaled_ratings'] < 0.25:\n",
    "        cols.append('red')\n",
    "    elif row['scaled_ratings'] < 0.50:\n",
    "        cols.append('orange')\n",
    "    elif row['scaled_ratings'] < 0.75:\n",
    "        cols.append('lightgreen')\n",
    "    else:\n",
    "        cols.append('darkgreen')"
   ]
  },
  {
   "cell_type": "code",
   "execution_count": 22,
   "metadata": {
    "collapsed": true,
    "dc": {
     "key": "4"
    }
   },
   "outputs": [],
   "source": [
    "# caso for episodio especial tamanho da bola seja 250 do contrario 25\n",
    "\n",
    "sizes = []\n",
    "for ind, row in office_df.iterrows():\n",
    "    if row['has_guests'] == True:\n",
    "        sizes.append(250)\n",
    "    else:\n",
    "        sizes.append(25)"
   ]
  },
  {
   "cell_type": "code",
   "execution_count": 23,
   "metadata": {
    "dc": {
     "key": "4"
    }
   },
   "outputs": [
    {
     "data": {
      "image/png": "[encoded data removed]",
      "text/plain": [
       "<Figure size 792x504 with 1 Axes>"
      ]
     },
     "metadata": {
      "needs_background": "light"
     },
     "output_type": "display_data"
    }
   ],
   "source": [
    "# plotando grafico\n",
    "fig = plt.figure()\n",
    "\n",
    "plt.scatter(x=office_df['episode_number'], # eixo x\n",
    "            y=office_df['viewership_mil'], #eixo y\n",
    "            c=cols, #cor\n",
    "            s=sizes # tamanho da bola\n",
    "           ) \n",
    "plt.xlabel(\"Episode Number\")\n",
    "plt.ylabel(\"Viewership (Millions)\")\n",
    "plt.title(\"Popularity, Quality, and Guest Appearances on the Office\")\n",
    "plt.legend()\n",
    "plt.show()"
   ]
  },
  {
   "cell_type": "code",
   "execution_count": 24,
   "metadata": {
    "collapsed": true,
    "dc": {
     "key": "4"
    }
   },
   "outputs": [],
   "source": [
    "top_star = 'Jessica Alba'"
   ]
  },
  {
   "cell_type": "code",
   "execution_count": null,
   "metadata": {
    "collapsed": true,
    "dc": {
     "key": "4"
    }
   },
   "outputs": [],
   "source": []
  }
 ],
 "metadata": {
  "kernelspec": {
   "display_name": "Python 3 (ipykernel)",
   "language": "python",
   "name": "python3"
  },
  "language_info": {
   "codemirror_mode": {
    "name": "ipython",
    "version": 3
   },
   "file_extension": ".py",
   "mimetype": "text/x-python",
   "name": "python",
   "nbconvert_exporter": "python",
   "pygments_lexer": "ipython3",
   "version": "3.10.6"
  }
 },
 "nbformat": 4,
 "nbformat_minor": 2
}
