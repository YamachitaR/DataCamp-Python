{
 "cells": [
  {
   "cell_type": "markdown",
   "id": "3c422947",
   "metadata": {},
   "source": [
    "# Introduction to Data Visualization with Seaborn\n",
    "Categorical variables are present in nearly every dataset, but they are especially prominent in survey data. In this chapter, you will learn how to create and customize categorical plots such as box plots, bar plots, count plots, and point plots. Along the way, you will explore survey data from young people about their interests, students about their study habits, and adult men about their feelings about masculinity.\n",
    "## Visualizing a Categorical and a Quantitative Variable"
   ]
  },
  {
   "cell_type": "code",
   "execution_count": 1,
   "id": "b3b46983",
   "metadata": {},
   "outputs": [],
   "source": [
    "import matplotlib.pyplot as plt\n",
    "import seaborn as sns\n",
    "import pandas as pd"
   ]
  },
  {
   "cell_type": "code",
   "execution_count": 2,
   "id": "41a1d981",
   "metadata": {},
   "outputs": [
    {
     "data": {
      "text/html": [
       "<div>\n",
       "<style scoped>\n",
       "    .dataframe tbody tr th:only-of-type {\n",
       "        vertical-align: middle;\n",
       "    }\n",
       "\n",
       "    .dataframe tbody tr th {\n",
       "        vertical-align: top;\n",
       "    }\n",
       "\n",
       "    .dataframe thead th {\n",
       "        text-align: right;\n",
       "    }\n",
       "</style>\n",
       "<table border=\"1\" class=\"dataframe\">\n",
       "  <thead>\n",
       "    <tr style=\"text-align: right;\">\n",
       "      <th></th>\n",
       "      <th>Unnamed: 0</th>\n",
       "      <th>Music</th>\n",
       "      <th>Techno</th>\n",
       "      <th>Movies</th>\n",
       "      <th>History</th>\n",
       "      <th>Mathematics</th>\n",
       "      <th>Pets</th>\n",
       "      <th>Spiders</th>\n",
       "      <th>Loneliness</th>\n",
       "      <th>Parents' advice</th>\n",
       "      <th>Internet usage</th>\n",
       "      <th>Finances</th>\n",
       "      <th>Age</th>\n",
       "      <th>Siblings</th>\n",
       "      <th>Gender</th>\n",
       "      <th>Village - town</th>\n",
       "    </tr>\n",
       "  </thead>\n",
       "  <tbody>\n",
       "    <tr>\n",
       "      <th>0</th>\n",
       "      <td>0</td>\n",
       "      <td>5.0</td>\n",
       "      <td>1.0</td>\n",
       "      <td>5.0</td>\n",
       "      <td>1.0</td>\n",
       "      <td>3.0</td>\n",
       "      <td>4.0</td>\n",
       "      <td>1.0</td>\n",
       "      <td>3.0</td>\n",
       "      <td>4.0</td>\n",
       "      <td>few hours a day</td>\n",
       "      <td>3.0</td>\n",
       "      <td>20.0</td>\n",
       "      <td>1.0</td>\n",
       "      <td>female</td>\n",
       "      <td>village</td>\n",
       "    </tr>\n",
       "    <tr>\n",
       "      <th>1</th>\n",
       "      <td>1</td>\n",
       "      <td>4.0</td>\n",
       "      <td>1.0</td>\n",
       "      <td>5.0</td>\n",
       "      <td>1.0</td>\n",
       "      <td>5.0</td>\n",
       "      <td>5.0</td>\n",
       "      <td>1.0</td>\n",
       "      <td>2.0</td>\n",
       "      <td>2.0</td>\n",
       "      <td>few hours a day</td>\n",
       "      <td>3.0</td>\n",
       "      <td>19.0</td>\n",
       "      <td>2.0</td>\n",
       "      <td>female</td>\n",
       "      <td>city</td>\n",
       "    </tr>\n",
       "    <tr>\n",
       "      <th>2</th>\n",
       "      <td>2</td>\n",
       "      <td>5.0</td>\n",
       "      <td>1.0</td>\n",
       "      <td>5.0</td>\n",
       "      <td>1.0</td>\n",
       "      <td>5.0</td>\n",
       "      <td>5.0</td>\n",
       "      <td>1.0</td>\n",
       "      <td>5.0</td>\n",
       "      <td>3.0</td>\n",
       "      <td>few hours a day</td>\n",
       "      <td>2.0</td>\n",
       "      <td>20.0</td>\n",
       "      <td>2.0</td>\n",
       "      <td>female</td>\n",
       "      <td>city</td>\n",
       "    </tr>\n",
       "    <tr>\n",
       "      <th>3</th>\n",
       "      <td>3</td>\n",
       "      <td>5.0</td>\n",
       "      <td>2.0</td>\n",
       "      <td>5.0</td>\n",
       "      <td>4.0</td>\n",
       "      <td>4.0</td>\n",
       "      <td>1.0</td>\n",
       "      <td>5.0</td>\n",
       "      <td>5.0</td>\n",
       "      <td>2.0</td>\n",
       "      <td>most of the day</td>\n",
       "      <td>2.0</td>\n",
       "      <td>22.0</td>\n",
       "      <td>1.0</td>\n",
       "      <td>female</td>\n",
       "      <td>city</td>\n",
       "    </tr>\n",
       "    <tr>\n",
       "      <th>4</th>\n",
       "      <td>4</td>\n",
       "      <td>5.0</td>\n",
       "      <td>2.0</td>\n",
       "      <td>5.0</td>\n",
       "      <td>3.0</td>\n",
       "      <td>2.0</td>\n",
       "      <td>1.0</td>\n",
       "      <td>1.0</td>\n",
       "      <td>3.0</td>\n",
       "      <td>3.0</td>\n",
       "      <td>few hours a day</td>\n",
       "      <td>4.0</td>\n",
       "      <td>20.0</td>\n",
       "      <td>1.0</td>\n",
       "      <td>female</td>\n",
       "      <td>village</td>\n",
       "    </tr>\n",
       "  </tbody>\n",
       "</table>\n",
       "</div>"
      ],
      "text/plain": [
       "   Unnamed: 0  Music  Techno  Movies  History  Mathematics  Pets  Spiders  \\\n",
       "0           0    5.0     1.0     5.0      1.0          3.0   4.0      1.0   \n",
       "1           1    4.0     1.0     5.0      1.0          5.0   5.0      1.0   \n",
       "2           2    5.0     1.0     5.0      1.0          5.0   5.0      1.0   \n",
       "3           3    5.0     2.0     5.0      4.0          4.0   1.0      5.0   \n",
       "4           4    5.0     2.0     5.0      3.0          2.0   1.0      1.0   \n",
       "\n",
       "   Loneliness  Parents' advice   Internet usage  Finances   Age  Siblings  \\\n",
       "0         3.0              4.0  few hours a day       3.0  20.0       1.0   \n",
       "1         2.0              2.0  few hours a day       3.0  19.0       2.0   \n",
       "2         5.0              3.0  few hours a day       2.0  20.0       2.0   \n",
       "3         5.0              2.0  most of the day       2.0  22.0       1.0   \n",
       "4         3.0              3.0  few hours a day       4.0  20.0       1.0   \n",
       "\n",
       "   Gender Village - town  \n",
       "0  female        village  \n",
       "1  female           city  \n",
       "2  female           city  \n",
       "3  female           city  \n",
       "4  female        village  "
      ]
     },
     "execution_count": 2,
     "metadata": {},
     "output_type": "execute_result"
    }
   ],
   "source": [
    "survey_data =  pd.read_csv('../datasets/young-people-survey-responses.csv')\n",
    "survey_data.head()"
   ]
  },
  {
   "cell_type": "code",
   "execution_count": 12,
   "id": "005818f4",
   "metadata": {},
   "outputs": [
    {
     "data": {
      "text/plain": [
       "Index(['Unnamed: 0', 'Music', 'Techno', 'Movies', 'History', 'Mathematics',\n",
       "       'Pets', 'Spiders', 'Loneliness', 'Parents' advice', 'Internet usage',\n",
       "       'Finances', 'Age', 'Siblings', 'Gender', 'Village - town',\n",
       "       'Age Category'],\n",
       "      dtype='object')"
      ]
     },
     "execution_count": 12,
     "metadata": {},
     "output_type": "execute_result"
    }
   ],
   "source": [
    "survey_data.columns"
   ]
  },
  {
   "cell_type": "markdown",
   "id": "11e6a366",
   "metadata": {},
   "source": [
    "### Grafico vertical bar"
   ]
  },
  {
   "cell_type": "code",
   "execution_count": 3,
   "id": "05e8f5c9",
   "metadata": {},
   "outputs": [
    {
     "data": {
      "image/png": "[encoded data removed]",
      "text/plain": [
       "<Figure size 360x360 with 1 Axes>"
      ]
     },
     "metadata": {
      "needs_background": "light"
     },
     "output_type": "display_data"
    }
   ],
   "source": [
    "sns.catplot(x=\"Internet usage\", data=survey_data,\n",
    "            kind=\"count\")\n",
    "\n",
    "plt.show()"
   ]
  },
  {
   "cell_type": "markdown",
   "id": "10630814",
   "metadata": {},
   "source": [
    "### Grafico horizontal "
   ]
  },
  {
   "cell_type": "code",
   "execution_count": 4,
   "id": "691f283a",
   "metadata": {},
   "outputs": [
    {
     "data": {
      "image/png": "[encoded data removed]",
      "text/plain": [
       "<Figure size 360x360 with 1 Axes>"
      ]
     },
     "metadata": {
      "needs_background": "light"
     },
     "output_type": "display_data"
    }
   ],
   "source": [
    "sns.catplot(y=\"Internet usage\", data=survey_data,\n",
    "            kind=\"count\")\n",
    "\n",
    "# Show plot\n",
    "plt.show()"
   ]
  },
  {
   "cell_type": "markdown",
   "id": "c90a451b",
   "metadata": {},
   "source": [
    "## Não sei titutlo bom "
   ]
  },
  {
   "cell_type": "code",
   "execution_count": 9,
   "id": "8743451c",
   "metadata": {},
   "outputs": [
    {
     "data": {
      "image/png": "[encoded data removed]",
      "text/plain": [
       "<Figure size 720x360 with 2 Axes>"
      ]
     },
     "metadata": {
      "needs_background": "light"
     },
     "output_type": "display_data"
    }
   ],
   "source": [
    "survey_data[\"Age Category\"] = survey_data[\"Age\"].apply(lambda x: \"Less than 21\" if x < 21 else '+21')\n",
    "\n",
    "sns.catplot(y=\"Internet usage\", data=survey_data,\n",
    "            kind=\"count\", col=\"Age Category\")\n",
    "\n",
    "# Show plot\n",
    "plt.show()"
   ]
  },
  {
   "cell_type": "code",
   "execution_count": 15,
   "id": "aefdc6ba",
   "metadata": {},
   "outputs": [
    {
     "data": {
      "text/html": [
       "<div>\n",
       "<style scoped>\n",
       "    .dataframe tbody tr th:only-of-type {\n",
       "        vertical-align: middle;\n",
       "    }\n",
       "\n",
       "    .dataframe tbody tr th {\n",
       "        vertical-align: top;\n",
       "    }\n",
       "\n",
       "    .dataframe thead th {\n",
       "        text-align: right;\n",
       "    }\n",
       "</style>\n",
       "<table border=\"1\" class=\"dataframe\">\n",
       "  <thead>\n",
       "    <tr style=\"text-align: right;\">\n",
       "      <th></th>\n",
       "      <th>Unnamed: 0</th>\n",
       "      <th>school</th>\n",
       "      <th>sex</th>\n",
       "      <th>age</th>\n",
       "      <th>famsize</th>\n",
       "      <th>Pstatus</th>\n",
       "      <th>Medu</th>\n",
       "      <th>Fedu</th>\n",
       "      <th>traveltime</th>\n",
       "      <th>failures</th>\n",
       "      <th>...</th>\n",
       "      <th>goout</th>\n",
       "      <th>Dalc</th>\n",
       "      <th>Walc</th>\n",
       "      <th>health</th>\n",
       "      <th>absences</th>\n",
       "      <th>G1</th>\n",
       "      <th>G2</th>\n",
       "      <th>G3</th>\n",
       "      <th>location</th>\n",
       "      <th>study_time</th>\n",
       "    </tr>\n",
       "  </thead>\n",
       "  <tbody>\n",
       "    <tr>\n",
       "      <th>0</th>\n",
       "      <td>0</td>\n",
       "      <td>GP</td>\n",
       "      <td>F</td>\n",
       "      <td>18</td>\n",
       "      <td>GT3</td>\n",
       "      <td>A</td>\n",
       "      <td>4</td>\n",
       "      <td>4</td>\n",
       "      <td>2</td>\n",
       "      <td>0</td>\n",
       "      <td>...</td>\n",
       "      <td>4</td>\n",
       "      <td>1</td>\n",
       "      <td>1</td>\n",
       "      <td>3</td>\n",
       "      <td>6</td>\n",
       "      <td>5</td>\n",
       "      <td>6</td>\n",
       "      <td>6</td>\n",
       "      <td>Urban</td>\n",
       "      <td>2 to 5 hours</td>\n",
       "    </tr>\n",
       "    <tr>\n",
       "      <th>1</th>\n",
       "      <td>1</td>\n",
       "      <td>GP</td>\n",
       "      <td>F</td>\n",
       "      <td>17</td>\n",
       "      <td>GT3</td>\n",
       "      <td>T</td>\n",
       "      <td>1</td>\n",
       "      <td>1</td>\n",
       "      <td>1</td>\n",
       "      <td>0</td>\n",
       "      <td>...</td>\n",
       "      <td>3</td>\n",
       "      <td>1</td>\n",
       "      <td>1</td>\n",
       "      <td>3</td>\n",
       "      <td>4</td>\n",
       "      <td>5</td>\n",
       "      <td>5</td>\n",
       "      <td>6</td>\n",
       "      <td>Urban</td>\n",
       "      <td>2 to 5 hours</td>\n",
       "    </tr>\n",
       "    <tr>\n",
       "      <th>2</th>\n",
       "      <td>2</td>\n",
       "      <td>GP</td>\n",
       "      <td>F</td>\n",
       "      <td>15</td>\n",
       "      <td>LE3</td>\n",
       "      <td>T</td>\n",
       "      <td>1</td>\n",
       "      <td>1</td>\n",
       "      <td>1</td>\n",
       "      <td>3</td>\n",
       "      <td>...</td>\n",
       "      <td>2</td>\n",
       "      <td>2</td>\n",
       "      <td>3</td>\n",
       "      <td>3</td>\n",
       "      <td>10</td>\n",
       "      <td>7</td>\n",
       "      <td>8</td>\n",
       "      <td>10</td>\n",
       "      <td>Urban</td>\n",
       "      <td>2 to 5 hours</td>\n",
       "    </tr>\n",
       "    <tr>\n",
       "      <th>3</th>\n",
       "      <td>3</td>\n",
       "      <td>GP</td>\n",
       "      <td>F</td>\n",
       "      <td>15</td>\n",
       "      <td>GT3</td>\n",
       "      <td>T</td>\n",
       "      <td>4</td>\n",
       "      <td>2</td>\n",
       "      <td>1</td>\n",
       "      <td>0</td>\n",
       "      <td>...</td>\n",
       "      <td>2</td>\n",
       "      <td>1</td>\n",
       "      <td>1</td>\n",
       "      <td>5</td>\n",
       "      <td>2</td>\n",
       "      <td>15</td>\n",
       "      <td>14</td>\n",
       "      <td>15</td>\n",
       "      <td>Urban</td>\n",
       "      <td>5 to 10 hours</td>\n",
       "    </tr>\n",
       "    <tr>\n",
       "      <th>4</th>\n",
       "      <td>4</td>\n",
       "      <td>GP</td>\n",
       "      <td>F</td>\n",
       "      <td>16</td>\n",
       "      <td>GT3</td>\n",
       "      <td>T</td>\n",
       "      <td>3</td>\n",
       "      <td>3</td>\n",
       "      <td>1</td>\n",
       "      <td>0</td>\n",
       "      <td>...</td>\n",
       "      <td>2</td>\n",
       "      <td>1</td>\n",
       "      <td>2</td>\n",
       "      <td>5</td>\n",
       "      <td>4</td>\n",
       "      <td>6</td>\n",
       "      <td>10</td>\n",
       "      <td>10</td>\n",
       "      <td>Urban</td>\n",
       "      <td>2 to 5 hours</td>\n",
       "    </tr>\n",
       "  </tbody>\n",
       "</table>\n",
       "<p>5 rows × 30 columns</p>\n",
       "</div>"
      ],
      "text/plain": [
       "   Unnamed: 0 school sex  age famsize Pstatus  Medu  Fedu  traveltime  \\\n",
       "0           0     GP   F   18     GT3       A     4     4           2   \n",
       "1           1     GP   F   17     GT3       T     1     1           1   \n",
       "2           2     GP   F   15     LE3       T     1     1           1   \n",
       "3           3     GP   F   15     GT3       T     4     2           1   \n",
       "4           4     GP   F   16     GT3       T     3     3           1   \n",
       "\n",
       "   failures  ... goout Dalc Walc health absences  G1  G2  G3  location  \\\n",
       "0         0  ...     4    1    1      3        6   5   6   6     Urban   \n",
       "1         0  ...     3    1    1      3        4   5   5   6     Urban   \n",
       "2         3  ...     2    2    3      3       10   7   8  10     Urban   \n",
       "3         0  ...     2    1    1      5        2  15  14  15     Urban   \n",
       "4         0  ...     2    1    2      5        4   6  10  10     Urban   \n",
       "\n",
       "      study_time  \n",
       "0   2 to 5 hours  \n",
       "1   2 to 5 hours  \n",
       "2   2 to 5 hours  \n",
       "3  5 to 10 hours  \n",
       "4   2 to 5 hours  \n",
       "\n",
       "[5 rows x 30 columns]"
      ]
     },
     "execution_count": 15,
     "metadata": {},
     "output_type": "execute_result"
    }
   ],
   "source": [
    "student_data = pd.read_csv('../datasets/student-alcohol-consumption.csv')\n",
    "student_data.head()"
   ]
  },
  {
   "cell_type": "markdown",
   "id": "3f5d83ff",
   "metadata": {},
   "source": [
    "### Com barra de erro\n",
    "\n"
   ]
  },
  {
   "cell_type": "code",
   "execution_count": 16,
   "id": "3ef3a458",
   "metadata": {},
   "outputs": [
    {
     "data": {
      "image/png": "[encoded data removed]",
      "text/plain": [
       "<Figure size 360x360 with 1 Axes>"
      ]
     },
     "metadata": {
      "needs_background": "light"
     },
     "output_type": "display_data"
    }
   ],
   "source": [
    "sns.catplot(x=\"study_time\", y='G3', data=student_data, kind='bar')\n",
    "plt.show()"
   ]
  },
  {
   "cell_type": "markdown",
   "id": "a3511d3f",
   "metadata": {},
   "source": [
    "### Ordenando a ordem "
   ]
  },
  {
   "cell_type": "code",
   "execution_count": 17,
   "id": "aea2a889",
   "metadata": {},
   "outputs": [
    {
     "data": {
      "image/png": "[encoded data removed]",
      "text/plain": [
       "<Figure size 360x360 with 1 Axes>"
      ]
     },
     "metadata": {
      "needs_background": "light"
     },
     "output_type": "display_data"
    }
   ],
   "source": [
    "category_order = [\"<2 hours\", \n",
    "                  \"2 to 5 hours\", \n",
    "                  \"5 to 10 hours\", \n",
    "                  \">10 hours\"]\n",
    "\n",
    "# Rearrange the categories\n",
    "sns.catplot(x=\"study_time\", y=\"G3\",\n",
    "            data=student_data,\n",
    "            kind=\"bar\", order = category_order)\n",
    "\n",
    "# Show plot\n",
    "plt.show()"
   ]
  },
  {
   "cell_type": "markdown",
   "id": "f94d6b66",
   "metadata": {},
   "source": [
    "## Retirando Barra de erro\n",
    "basta usar ci=None"
   ]
  },
  {
   "cell_type": "code",
   "execution_count": 18,
   "id": "d5bc3210",
   "metadata": {},
   "outputs": [
    {
     "name": "stderr",
     "output_type": "stream",
     "text": [
      "/tmp/ipykernel_14008/2445241887.py:7: FutureWarning: \n",
      "\n",
      "The `ci` parameter is deprecated. Use `errorbar=None` for the same effect.\n",
      "\n",
      "  sns.catplot(x=\"study_time\", y=\"G3\",\n"
     ]
    },
    {
     "data": {
      "image/png": "[encoded data removed]",
      "text/plain": [
       "<Figure size 360x360 with 1 Axes>"
      ]
     },
     "metadata": {
      "needs_background": "light"
     },
     "output_type": "display_data"
    }
   ],
   "source": [
    "category_order = [\"<2 hours\", \n",
    "                  \"2 to 5 hours\", \n",
    "                  \"5 to 10 hours\", \n",
    "                  \">10 hours\"]\n",
    "\n",
    "# Turn off the confidence intervals\n",
    "sns.catplot(x=\"study_time\", y=\"G3\",\n",
    "            data=student_data,\n",
    "            kind=\"bar\",\n",
    "            ci=None,\n",
    "            order=category_order)\n",
    "\n",
    "# Show plot\n",
    "plt.show()"
   ]
  },
  {
   "cell_type": "markdown",
   "id": "c2e4ff3e",
   "metadata": {},
   "source": [
    "# Box\n"
   ]
  },
  {
   "cell_type": "code",
   "execution_count": 19,
   "id": "c9795457",
   "metadata": {},
   "outputs": [
    {
     "data": {
      "image/png": "[encoded data removed]",
      "text/plain": [
       "<Figure size 360x360 with 1 Axes>"
      ]
     },
     "metadata": {
      "needs_background": "light"
     },
     "output_type": "display_data"
    }
   ],
   "source": [
    "# Specify the category ordering\n",
    "study_time_order = [\"<2 hours\", \"2 to 5 hours\", \n",
    "                    \"5 to 10 hours\", \">10 hours\"]\n",
    "\n",
    "# Create a box plot and set the order of the categories\n",
    "sns.catplot(x=\"study_time\", y=\"G3\", data=student_data   ,order=study_time_order, kind=\"box\")\n",
    "\n",
    "\n",
    "# Show plot\n",
    "plt.show()"
   ]
  },
  {
   "cell_type": "markdown",
   "id": "568688f9",
   "metadata": {},
   "source": [
    "### Colocando legenda "
   ]
  },
  {
   "cell_type": "code",
   "execution_count": 21,
   "id": "2fec2b2e",
   "metadata": {},
   "outputs": [
    {
     "data": {
      "text/plain": [
       "<seaborn.axisgrid.FacetGrid at 0x7fb5fe883df0>"
      ]
     },
     "execution_count": 21,
     "metadata": {},
     "output_type": "execute_result"
    },
    {
     "data": {
      "image/png": "[encoded data removed]",
      "text/plain": [
       "<Figure size 426.25x360 with 1 Axes>"
      ]
     },
     "metadata": {
      "needs_background": "light"
     },
     "output_type": "display_data"
    }
   ],
   "source": [
    "# hue para colocar legenda \n",
    "sns.catplot(\n",
    "    x=\"internet\",\n",
    "    y=\"G3\",\n",
    "    kind=\"box\",\n",
    "    hue=\"location\",\n",
    "    data=student_data\n",
    "\n",
    ")"
   ]
  },
  {
   "cell_type": "markdown",
   "id": "3ad4f5cd",
   "metadata": {},
   "source": [
    "# Tirando valor outlier do grafico\n",
    " "
   ]
  },
  {
   "cell_type": "code",
   "execution_count": 22,
   "id": "2b43d6e7",
   "metadata": {},
   "outputs": [
    {
     "data": {
      "text/plain": [
       "<seaborn.axisgrid.FacetGrid at 0x7fb5fe57ab30>"
      ]
     },
     "execution_count": 22,
     "metadata": {},
     "output_type": "execute_result"
    },
    {
     "data": {
      "image/png": "[encoded data removed]",
      "text/plain": [
       "<Figure size 426.25x360 with 1 Axes>"
      ]
     },
     "metadata": {
      "needs_background": "light"
     },
     "output_type": "display_data"
    }
   ],
   "source": [
    "# Para tirar outlier do grafico usamos sym\n",
    "sns.catplot(\n",
    "    x=\"internet\",\n",
    "    y=\"G3\",\n",
    "    kind=\"box\",\n",
    "    hue=\"location\",\n",
    "    sym=\"\",\n",
    "    data=student_data\n",
    "\n",
    ")"
   ]
  },
  {
   "cell_type": "markdown",
   "id": "d1976128",
   "metadata": {},
   "source": [
    "### Percentile"
   ]
  },
  {
   "cell_type": "code",
   "execution_count": 24,
   "id": "245fafb1",
   "metadata": {},
   "outputs": [
    {
     "data": {
      "image/png": "[encoded data removed]",
      "text/plain": [
       "<Figure size 360x360 with 1 Axes>"
      ]
     },
     "metadata": {
      "needs_background": "light"
     },
     "output_type": "display_data"
    }
   ],
   "source": [
    "# Extend the whiskers to the 5th and 95th percentile\n",
    "sns.catplot(x=\"romantic\", y=\"G3\",\n",
    "            data=student_data,\n",
    "            kind=\"box\",\n",
    "            whis=[5, 95])\n",
    "\n",
    "# Show plot\n",
    "plt.show()"
   ]
  },
  {
   "cell_type": "markdown",
   "id": "4091d94f",
   "metadata": {},
   "source": [
    "# Point"
   ]
  },
  {
   "cell_type": "code",
   "execution_count": 25,
   "id": "bc509e92",
   "metadata": {},
   "outputs": [
    {
     "data": {
      "image/png": "[encoded data removed]",
      "text/plain": [
       "<Figure size 360x360 with 1 Axes>"
      ]
     },
     "metadata": {
      "needs_background": "light"
     },
     "output_type": "display_data"
    }
   ],
   "source": [
    "sns.catplot(\n",
    "    y=\"absences\",\n",
    "    x=\"famrel\",\n",
    "    data=student_data,\n",
    "    kind=\"point\"\n",
    "    )\n",
    "\n",
    "\n",
    "            \n",
    "# Show plot\n",
    "plt.show()"
   ]
  },
  {
   "cell_type": "markdown",
   "id": "d267c6b0",
   "metadata": {},
   "source": [
    "## Não sei um titulo bom "
   ]
  },
  {
   "cell_type": "code",
   "execution_count": 26,
   "id": "41015e92",
   "metadata": {},
   "outputs": [
    {
     "data": {
      "image/png": "[encoded data removed]",
      "text/plain": [
       "<Figure size 360x360 with 1 Axes>"
      ]
     },
     "metadata": {
      "needs_background": "light"
     },
     "output_type": "display_data"
    }
   ],
   "source": [
    "sns.catplot(x=\"famrel\", y=\"absences\",\n",
    "\t\t\tdata=student_data,\n",
    "            kind=\"point\",\n",
    "            capsize=0.2)\n",
    "            \n",
    "# Show plot\n",
    "plt.show()"
   ]
  },
  {
   "cell_type": "code",
   "execution_count": 28,
   "id": "c5ea1bcd",
   "metadata": {},
   "outputs": [
    {
     "data": {
      "image/png": "[encoded data removed]",
      "text/plain": [
       "<Figure size 410.875x360 with 1 Axes>"
      ]
     },
     "metadata": {
      "needs_background": "light"
     },
     "output_type": "display_data"
    }
   ],
   "source": [
    "from numpy import median\n",
    "\n",
    "# Plot the median number of absences instead of the mean\n",
    "sns.catplot(x=\"romantic\", y=\"absences\",\n",
    "\t\t\tdata=student_data,\n",
    "            kind=\"point\",\n",
    "            hue=\"school\",\n",
    "            estimator=median)\n",
    "\n",
    "# Show plot\n",
    "plt.show()"
   ]
  },
  {
   "cell_type": "markdown",
   "id": "5f96049b",
   "metadata": {},
   "source": [
    "### Median \n",
    "\n",
    "Traço vertical, agora, é o tamanho mediano "
   ]
  },
  {
   "cell_type": "code",
   "execution_count": null,
   "id": "153d079c",
   "metadata": {},
   "outputs": [],
   "source": []
  }
 ],
 "metadata": {
  "kernelspec": {
   "display_name": "Python 3 (ipykernel)",
   "language": "python",
   "name": "python3"
  },
  "language_info": {
   "codemirror_mode": {
    "name": "ipython",
    "version": 3
   },
   "file_extension": ".py",
   "mimetype": "text/x-python",
   "name": "python",
   "nbconvert_exporter": "python",
   "pygments_lexer": "ipython3",
   "version": "3.10.6"
  }
 },
 "nbformat": 4,
 "nbformat_minor": 5
}
